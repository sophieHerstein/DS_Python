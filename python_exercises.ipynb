{
 "cells": [
  {
   "cell_type": "markdown",
   "metadata": {},
   "source": [
    "Q1: Write 2 python function to get the indices of the sorted elements of given lists and compare the speed. one is without numpy package and the other is with numpy. (raise a error message if the input is null or not numerical)\n",
    "\n",
    " - List 1: [23, 104, 5, 190, 8, 7, -3]\n",
    " - List 2 : []\n",
    " - List 3 : random generate 1000000 integers "
   ]
  },
  {
   "cell_type": "code",
   "execution_count": 36,
   "metadata": {},
   "outputs": [
    {
     "name": "stdout",
     "output_type": "stream",
     "text": [
      "Liste [23, 104, 5, 190, 8, 7, -3] : \n",
      "[6, 2, 5, 4, 0, 1, 3]\n",
      "Time taken without NumPy: 0.013316869735717773 seconds\n",
      "[6 2 5 4 0 1 3]\n",
      "Time taken with NumPy: 0.00017189979553222656 seconds\n",
      "Function with numpy was faster than function without numpy\n",
      "------------------------------------------------------------------\n",
      "Liste [] : \n",
      "Input list is empty.\n",
      "Input list is empty.\n",
      "No comparison possible because an error occurred\n",
      "------------------------------------------------------------------\n",
      "Liste [147212, 60813, 996780, 160619, 743041, 623522, 738454, 260899, ...] : \n",
      "[23014, 612260, 462930, 184074, 504327, 41774, 533730, 811709, ...]\n",
      "Time taken without NumPy: 0.3790152072906494 seconds\n",
      "[23014, 612260, 462930, 184074, 504327, 41774, 533730, 811709, ...]\n",
      "Time taken with NumPy: 0.11163806915283203 seconds\n",
      "Function with numpy was faster than function without numpy\n",
      "------------------------------------------------------------------\n"
     ]
    }
   ],
   "source": [
    "import time\n",
    "import random\n",
    "import numpy as np\n",
    "\n",
    "def is_list_empty_or_non_numerical(liste):\n",
    "    if not isinstance(liste, list):\n",
    "        raise ValueError(\"Input is not a list.\")\n",
    "    if len(liste) == 0:\n",
    "        raise ValueError(\"Input list is empty.\")\n",
    "    for element in liste:\n",
    "        if not isinstance(element, int):\n",
    "            raise ValueError(\"Input list contains non-numerical values.\")\n",
    "\n",
    "def get_sorted_indices_without_numpy(liste):\n",
    "    is_list_empty_or_non_numerical(liste)\n",
    "    return [i[0] for i in sorted(enumerate(liste), key=lambda x:x[1])]\n",
    "\n",
    "\n",
    "def get_sorted_indices_with_numpy(liste):\n",
    "    is_list_empty_or_non_numerical(liste)\n",
    "    return np.argsort(liste)\n",
    "\n",
    "def get_sublist_string(liste):\n",
    "    liste_string = \"[\"\n",
    "    for i in range(0, 8):\n",
    "        liste_string = liste_string + str(liste[i]) + \", \"\n",
    "    return liste_string + \"...]\"\n",
    "\n",
    "list1 = [23, 104, 5, 190, 8, 7, -3]\n",
    "list2 = []\n",
    "list3 = random.sample(range(0, 1000000), 1000000)\n",
    "\n",
    "listen = [list1, list2, list3]\n",
    "\n",
    "for liste in listen:\n",
    "    if len(liste) < 8:\n",
    "        print(\"Liste\", liste, \": \")\n",
    "    else:\n",
    "        print(\"Liste\", get_sublist_string(liste), \": \")\n",
    "\n",
    "    error_occurred = False\n",
    "\n",
    "    try:\n",
    "        start_time = time.time()\n",
    "        sorted_indices1 = get_sorted_indices_without_numpy(liste)\n",
    "        end_time = time.time()\n",
    "        no_numpy_time = end_time - start_time\n",
    "        if len(sorted_indices1) < 8:\n",
    "            print(sorted_indices1)\n",
    "        else:\n",
    "            print(get_sublist_string(sorted_indices1))\n",
    "        print(\"Time taken without NumPy:\", no_numpy_time, \"seconds\")\n",
    "    except Exception as error:\n",
    "        error_occurred = True\n",
    "        print(error)\n",
    "\n",
    "    try:\n",
    "        start_time = time.time()\n",
    "        sorted_indices2 = get_sorted_indices_with_numpy(liste)\n",
    "        end_time = time.time()\n",
    "        numpy_time = end_time - start_time\n",
    "        if len(sorted_indices2) < 8:\n",
    "            print(sorted_indices2)\n",
    "        else:\n",
    "            print(get_sublist_string(sorted_indices2))\n",
    "        print(\"Time taken with NumPy:\", numpy_time, \"seconds\")\n",
    "    except Exception as error:\n",
    "        error_occurred = True\n",
    "        print(error)\n",
    "\n",
    "    if not error_occurred:\n",
    "        if numpy_time > no_numpy_time:\n",
    "            print(\"Function without numpy was faster than function with numpy\")\n",
    "        elif no_numpy_time > numpy_time:\n",
    "            print(\"Function with numpy was faster than function without numpy\")\n",
    "        else:\n",
    "            print(\"Both function were equally fast\")\n",
    "    else:\n",
    "        print(\"No comparison possible because an error occurred\")\n",
    "\n",
    "    print(\"------------------------------------------------------------------\")\n"
   ]
  },
  {
   "cell_type": "markdown",
   "metadata": {},
   "source": [
    "Q2: Do the following exercise in a Jupyter Notebook:"
   ]
  },
  {
   "cell_type": "markdown",
   "metadata": {},
   "source": [
    " - Load the countries.csv directly via URL import into your panda data frame!"
   ]
  },
  {
   "cell_type": "code",
   "execution_count": 37,
   "metadata": {},
   "outputs": [
    {
     "name": "stdout",
     "output_type": "stream",
     "text": [
      "        Name  Population     Area     GDP Currency\n",
      "0    Germany    82521653   357385  3466.0      EUR\n",
      "1      Japan   126045000   377835  4938.0      YEN\n",
      "2     Canada    36503097  9984670  1529.0      CAD\n",
      "3      Italy    60501718   301338  1850.0      EUR\n",
      "4   Brazilia   208360000  8515770  1798.0     REAL\n",
      "5     Taiwan    23938272    36197   744.0      NTD\n",
      "6  Venezuela    28208977   912050     NaN      VED\n"
     ]
    }
   ],
   "source": [
    "import pandas as pd\n",
    "\n",
    "countries = pd.read_csv('https://raw.githubusercontent.com/WHPAN0108/BHT-DataScience-S23/main/python-DS/country.csv')\n",
    "\n",
    "print(countries)"
   ]
  },
  {
   "cell_type": "markdown",
   "metadata": {},
   "source": [
    " - Display descriptive statistics for the numerical column (count, mean, std, min, 25%, 50%, 75%, max) HINT: describe"
   ]
  },
  {
   "cell_type": "code",
   "execution_count": 38,
   "metadata": {},
   "outputs": [
    {
     "name": "stdout",
     "output_type": "stream",
     "text": [
      "         Population          Area          GDP\n",
      "count  7.000000e+00  7.000000e+00     6.000000\n",
      "mean   8.086839e+07  2.926464e+06  2387.500000\n",
      "std    6.670195e+07  4.348507e+06  1532.497537\n",
      "min    2.393827e+07  3.619700e+04   744.000000\n",
      "25%    3.235604e+07  3.293615e+05  1596.250000\n",
      "50%    6.050172e+07  3.778350e+05  1824.000000\n",
      "75%    1.042833e+08  4.713910e+06  3062.000000\n",
      "max    2.083600e+08  9.984670e+06  4938.000000\n"
     ]
    }
   ],
   "source": [
    "country_df = pd.DataFrame(countries)\n",
    "print(country_df.describe())"
   ]
  },
  {
   "cell_type": "markdown",
   "metadata": {},
   "source": [
    " - Show the last 4 rows of the data frame."
   ]
  },
  {
   "cell_type": "code",
   "execution_count": 39,
   "metadata": {},
   "outputs": [
    {
     "name": "stdout",
     "output_type": "stream",
     "text": [
      "        Name  Population     Area     GDP Currency\n",
      "3      Italy    60501718   301338  1850.0      EUR\n",
      "4   Brazilia   208360000  8515770  1798.0     REAL\n",
      "5     Taiwan    23938272    36197   744.0      NTD\n",
      "6  Venezuela    28208977   912050     NaN      VED\n"
     ]
    }
   ],
   "source": [
    "print(country_df.tail(4))"
   ]
  },
  {
   "cell_type": "markdown",
   "metadata": {},
   "source": [
    " - Show all the rows of countries that have the EURO"
   ]
  },
  {
   "cell_type": "code",
   "execution_count": 40,
   "metadata": {},
   "outputs": [
    {
     "name": "stdout",
     "output_type": "stream",
     "text": [
      "      Name  Population    Area     GDP Currency\n",
      "0  Germany    82521653  357385  3466.0      EUR\n",
      "3    Italy    60501718  301338  1850.0      EUR\n"
     ]
    }
   ],
   "source": [
    "print(country_df[country_df['Currency'] == \"EUR\"])"
   ]
  },
  {
   "cell_type": "markdown",
   "metadata": {},
   "source": [
    " - Show only name and Currency in a new data frame"
   ]
  },
  {
   "cell_type": "code",
   "execution_count": 41,
   "metadata": {},
   "outputs": [
    {
     "name": "stdout",
     "output_type": "stream",
     "text": [
      "        Name Currency\n",
      "0    Germany      EUR\n",
      "1      Japan      YEN\n",
      "2     Canada      CAD\n",
      "3      Italy      EUR\n",
      "4   Brazilia     REAL\n",
      "5     Taiwan      NTD\n",
      "6  Venezuela      VED\n"
     ]
    }
   ],
   "source": [
    "new_country_df = country_df[['Name','Currency']]\n",
    "print(new_country_df)\n"
   ]
  },
  {
   "cell_type": "markdown",
   "metadata": {},
   "source": [
    " - Show only the rows/countries that have more than 2000 GDP (it is in Milliarden USD Bruttoinlandsprodukt)"
   ]
  },
  {
   "cell_type": "code",
   "execution_count": 42,
   "metadata": {},
   "outputs": [
    {
     "name": "stdout",
     "output_type": "stream",
     "text": [
      "      Name  Population    Area     GDP Currency\n",
      "0  Germany    82521653  357385  3466.0      EUR\n",
      "1    Japan   126045000  377835  4938.0      YEN\n"
     ]
    }
   ],
   "source": [
    "print(country_df[country_df['GDP'] > 2000])"
   ]
  },
  {
   "cell_type": "markdown",
   "metadata": {},
   "source": [
    " - Select all countries where with inhabitants between 50 and 150 Mio"
   ]
  },
  {
   "cell_type": "code",
   "execution_count": 43,
   "metadata": {},
   "outputs": [
    {
     "name": "stdout",
     "output_type": "stream",
     "text": [
      "      Name  Population    Area     GDP Currency\n",
      "0  Germany    82521653  357385  3466.0      EUR\n",
      "1    Japan   126045000  377835  4938.0      YEN\n",
      "3    Italy    60501718  301338  1850.0      EUR\n"
     ]
    }
   ],
   "source": [
    "print(country_df[(country_df['Population'] > 50000000) & (country_df['Population'] < 150000000)])"
   ]
  },
  {
   "cell_type": "markdown",
   "metadata": {},
   "source": [
    " - Calculate the GDP average (ignore the missing value)"
   ]
  },
  {
   "cell_type": "code",
   "execution_count": 44,
   "metadata": {},
   "outputs": [
    {
     "name": "stdout",
     "output_type": "stream",
     "text": [
      "2387.5\n"
     ]
    }
   ],
   "source": [
    "print(country_df[\"GDP\"].mean(numeric_only=True))"
   ]
  },
  {
   "cell_type": "markdown",
   "metadata": {},
   "source": [
    " - Calculate the GDP average (missing value treated as 0)"
   ]
  },
  {
   "cell_type": "code",
   "execution_count": 45,
   "metadata": {},
   "outputs": [
    {
     "name": "stdout",
     "output_type": "stream",
     "text": [
      "2046.43\n"
     ]
    }
   ],
   "source": [
    "country_df[\"GDP\"] = country_df[\"GDP\"].replace(np.nan, 0)\n",
    "print(round(country_df[\"GDP\"].mean(),2))"
   ]
  },
  {
   "cell_type": "markdown",
   "metadata": {},
   "source": [
    " - Calculate the population density (population/area)  of all countries and add as new column"
   ]
  },
  {
   "cell_type": "code",
   "execution_count": 46,
   "metadata": {},
   "outputs": [
    {
     "name": "stdout",
     "output_type": "stream",
     "text": [
      "        Name  Population     Area     GDP Currency  Population Density\n",
      "0    Germany    82521653   357385  3466.0      EUR              230.90\n",
      "1      Japan   126045000   377835  4938.0      YEN              333.60\n",
      "2     Canada    36503097  9984670  1529.0      CAD                3.66\n",
      "3      Italy    60501718   301338  1850.0      EUR              200.78\n",
      "4   Brazilia   208360000  8515770  1798.0     REAL               24.47\n",
      "5     Taiwan    23938272    36197   744.0      NTD              661.33\n",
      "6  Venezuela    28208977   912050     0.0      VED               30.93\n"
     ]
    }
   ],
   "source": [
    "country_df[\"Population Density\"] = round(country_df[\"Population\"] / country_df[\"Area\"], 2)\n",
    "print(country_df)"
   ]
  },
  {
   "cell_type": "markdown",
   "metadata": {},
   "source": [
    " - Sort by country name alphabetically"
   ]
  },
  {
   "cell_type": "code",
   "execution_count": 47,
   "metadata": {},
   "outputs": [
    {
     "name": "stdout",
     "output_type": "stream",
     "text": [
      "        Name  Population     Area     GDP Currency  Population Density\n",
      "4   Brazilia   208360000  8515770  1798.0     REAL               24.47\n",
      "2     Canada    36503097  9984670  1529.0      CAD                3.66\n",
      "0    Germany    82521653   357385  3466.0      EUR              230.90\n",
      "3      Italy    60501718   301338  1850.0      EUR              200.78\n",
      "1      Japan   126045000   377835  4938.0      YEN              333.60\n",
      "5     Taiwan    23938272    36197   744.0      NTD              661.33\n",
      "6  Venezuela    28208977   912050     0.0      VED               30.93\n"
     ]
    }
   ],
   "source": [
    "print(country_df.sort_values(\"Name\"))"
   ]
  },
  {
   "cell_type": "markdown",
   "metadata": {},
   "source": [
    "- Create a new data frame from the original where the area is changed: all countries with > 1000000 get BIG and <= 1000000 get SMALL in the cell replaced!"
   ]
  },
  {
   "cell_type": "code",
   "execution_count": 48,
   "metadata": {},
   "outputs": [
    {
     "name": "stdout",
     "output_type": "stream",
     "text": [
      "        Name  Population   Area     GDP Currency  Population Density\n",
      "0    Germany    82521653  SMALL  3466.0      EUR              230.90\n",
      "1      Japan   126045000  SMALL  4938.0      YEN              333.60\n",
      "2     Canada    36503097    BIG  1529.0      CAD                3.66\n",
      "3      Italy    60501718  SMALL  1850.0      EUR              200.78\n",
      "4   Brazilia   208360000    BIG  1798.0     REAL               24.47\n",
      "5     Taiwan    23938272  SMALL   744.0      NTD              661.33\n",
      "6  Venezuela    28208977  SMALL     0.0      VED               30.93\n"
     ]
    }
   ],
   "source": [
    "country_df_new_data = country_df\n",
    "country_df_new_data[\"Area\"] = country_df_new_data[\"Area\"].apply(lambda x: \"BIG\" if x > 1000000 else \"SMALL\")\n",
    "print(country_df_new_data)"
   ]
  }
 ],
 "metadata": {
  "kernelspec": {
   "display_name": "Python 3",
   "language": "python",
   "name": "python3"
  },
  "language_info": {
   "codemirror_mode": {
    "name": "ipython",
    "version": 3
   },
   "file_extension": ".py",
   "mimetype": "text/x-python",
   "name": "python",
   "nbconvert_exporter": "python",
   "pygments_lexer": "ipython3",
   "version": "3.11.5"
  }
 },
 "nbformat": 4,
 "nbformat_minor": 2
}
